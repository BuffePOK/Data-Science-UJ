{
 "cells": [
  {
   "cell_type": "code",
   "execution_count": 1,
   "metadata": {},
   "outputs": [],
   "source": [
    "import pandas as pd\n",
    "import numpy as np\n",
    "import matplotlib.pyplot as plt\n",
    "from os import getcwd"
   ]
  },
  {
   "cell_type": "markdown",
   "metadata": {},
   "source": [
    "## Exercise 1\n",
    "a) Load house sales data from file kc_house_data.csv, print first records.  \n",
    "b) Print the variable list. Select categorical and numerical variables.  \n",
    "c) Compute basic statistics of numerical variables. Are all of them meaningful?"
   ]
  },
  {
   "cell_type": "code",
   "execution_count": 2,
   "metadata": {},
   "outputs": [
    {
     "name": "stdout",
     "output_type": "stream",
     "text": [
      "           id             date     price  bedrooms  bathrooms  sqft_living  \\\n",
      "0  7129300520  20141013T000000  221900.0         3       1.00         1180   \n",
      "1  6414100192  20141209T000000  538000.0         3       2.25         2570   \n",
      "2  5631500400  20150225T000000  180000.0         2       1.00          770   \n",
      "3  2487200875  20141209T000000  604000.0         4       3.00         1960   \n",
      "4  1954400510  20150218T000000  510000.0         3       2.00         1680   \n",
      "\n",
      "   sqft_lot  floors  waterfront  view  ...  grade  sqft_above  sqft_basement  \\\n",
      "0      5650     1.0           0     0  ...      7        1180              0   \n",
      "1      7242     2.0           0     0  ...      7        2170            400   \n",
      "2     10000     1.0           0     0  ...      6         770              0   \n",
      "3      5000     1.0           0     0  ...      7        1050            910   \n",
      "4      8080     1.0           0     0  ...      8        1680              0   \n",
      "\n",
      "   yr_built  yr_renovated  zipcode      lat     long  sqft_living15  \\\n",
      "0      1955             0    98178  47.5112 -122.257           1340   \n",
      "1      1951          1991    98125  47.7210 -122.319           1690   \n",
      "2      1933             0    98028  47.7379 -122.233           2720   \n",
      "3      1965             0    98136  47.5208 -122.393           1360   \n",
      "4      1987             0    98074  47.6168 -122.045           1800   \n",
      "\n",
      "   sqft_lot15  \n",
      "0        5650  \n",
      "1        7639  \n",
      "2        8062  \n",
      "3        5000  \n",
      "4        7503  \n",
      "\n",
      "[5 rows x 21 columns]\n"
     ]
    }
   ],
   "source": [
    "df = pd.read_csv(getcwd() + \"\\kc_house_data.csv\") # need to be __main__ file\n",
    "print(df.head())\n",
    "#Hint: read_csv(), head()"
   ]
  },
  {
   "cell_type": "code",
   "execution_count": 198,
   "metadata": {},
   "outputs": [
    {
     "name": "stdout",
     "output_type": "stream",
     "text": [
      "['date']\n",
      "Index(['id', 'price', 'bedrooms', 'bathrooms', 'sqft_living', 'sqft_lot',\n",
      "       'floors', 'waterfront', 'view', 'condition', 'grade', 'sqft_above',\n",
      "       'sqft_basement', 'yr_built', 'yr_renovated', 'zipcode', 'lat', 'long',\n",
      "       'sqft_living15', 'sqft_lot15'],\n",
      "      dtype='object')\n"
     ]
    }
   ],
   "source": [
    "#b) \n",
    "df = pd.read_csv(getcwd() + \"\\kc_house_data.csv\") # need to be __main__ file\n",
    "\n",
    "cols = df.columns\n",
    "\n",
    "\n",
    "house_numerical_df = df._get_numeric_data().columns\n",
    "house_categorical_df = list(set(cols) - set(house_numerical_df))\n",
    "\n",
    "print(house_categorical_df)\n",
    "print(house_numerical_df)\n"
   ]
  },
  {
   "cell_type": "code",
   "execution_count": 199,
   "metadata": {
    "scrolled": true
   },
   "outputs": [
    {
     "name": "stdout",
     "output_type": "stream",
     "text": [
      "                 id         price      bedrooms     bathrooms   sqft_living  \\\n",
      "count  2.161300e+04  2.161300e+04  21613.000000  21613.000000  21613.000000   \n",
      "mean   4.580302e+09  5.400881e+05      3.370842      2.114757   2079.899736   \n",
      "std    2.876566e+09  3.671272e+05      0.930062      0.770163    918.440897   \n",
      "min    1.000102e+06  7.500000e+04      0.000000      0.000000    290.000000   \n",
      "25%    2.123049e+09  3.219500e+05      3.000000      1.750000   1427.000000   \n",
      "50%    3.904930e+09  4.500000e+05      3.000000      2.250000   1910.000000   \n",
      "75%    7.308900e+09  6.450000e+05      4.000000      2.500000   2550.000000   \n",
      "max    9.900000e+09  7.700000e+06     33.000000      8.000000  13540.000000   \n",
      "\n",
      "           sqft_lot        floors    waterfront          view     condition  \\\n",
      "count  2.161300e+04  21613.000000  21613.000000  21613.000000  21613.000000   \n",
      "mean   1.510697e+04      1.494309      0.007542      0.234303      3.409430   \n",
      "std    4.142051e+04      0.539989      0.086517      0.766318      0.650743   \n",
      "min    5.200000e+02      1.000000      0.000000      0.000000      1.000000   \n",
      "25%    5.040000e+03      1.000000      0.000000      0.000000      3.000000   \n",
      "50%    7.618000e+03      1.500000      0.000000      0.000000      3.000000   \n",
      "75%    1.068800e+04      2.000000      0.000000      0.000000      4.000000   \n",
      "max    1.651359e+06      3.500000      1.000000      4.000000      5.000000   \n",
      "\n",
      "              grade    sqft_above  sqft_basement      yr_built  yr_renovated  \\\n",
      "count  21613.000000  21613.000000   21613.000000  21613.000000  21613.000000   \n",
      "mean       7.656873   1788.390691     291.509045   1971.005136     84.402258   \n",
      "std        1.175459    828.090978     442.575043     29.373411    401.679240   \n",
      "min        1.000000    290.000000       0.000000   1900.000000      0.000000   \n",
      "25%        7.000000   1190.000000       0.000000   1951.000000      0.000000   \n",
      "50%        7.000000   1560.000000       0.000000   1975.000000      0.000000   \n",
      "75%        8.000000   2210.000000     560.000000   1997.000000      0.000000   \n",
      "max       13.000000   9410.000000    4820.000000   2015.000000   2015.000000   \n",
      "\n",
      "            zipcode           lat          long  sqft_living15     sqft_lot15  \n",
      "count  21613.000000  21613.000000  21613.000000   21613.000000   21613.000000  \n",
      "mean   98077.939805     47.560053   -122.213896    1986.552492   12768.455652  \n",
      "std       53.505026      0.138564      0.140828     685.391304   27304.179631  \n",
      "min    98001.000000     47.155900   -122.519000     399.000000     651.000000  \n",
      "25%    98033.000000     47.471000   -122.328000    1490.000000    5100.000000  \n",
      "50%    98065.000000     47.571800   -122.230000    1840.000000    7620.000000  \n",
      "75%    98118.000000     47.678000   -122.125000    2360.000000   10083.000000  \n",
      "max    98199.000000     47.777600   -121.315000    6210.000000  871200.000000  \n"
     ]
    }
   ],
   "source": [
    "# c) Compute basic statistics of numerical variables. \n",
    "#Your code:\n",
    "df = pd.read_csv(getcwd() + \"\\kc_house_data.csv\") # need to be __main__ file\n",
    "\n",
    "print(df.describe())\n",
    "#Hint: Function describe()\n"
   ]
  },
  {
   "cell_type": "markdown",
   "metadata": {},
   "source": [
    "## Exercise 2\n",
    "Using scatter plot:  \n",
    "a) Show the relation of square footage and price.  \n",
    "b) Check how price is influenced by apartment's grade. Find other variables correlated with price.  \n",
    "c) Check how good apartments are distributed over the city. First, plot zipcode versus price. Then, use apartments coordinates (longitude and lattitude) in order to show where apartments of good grade are located. "
   ]
  },
  {
   "cell_type": "code",
   "execution_count": 200,
   "metadata": {},
   "outputs": [
    {
     "data": {
      "image/png": "[encoded data removed]",
      "text/plain": [
       "<Figure size 432x288 with 1 Axes>"
      ]
     },
     "metadata": {
      "needs_background": "light"
     },
     "output_type": "display_data"
    }
   ],
   "source": [
    "#a) Show the relation of square footage and price.  \n",
    "#Your code:\n",
    "df = pd.read_csv(getcwd() + \"\\kc_house_data.csv\") # need to be __main__ file\n",
    "\n",
    "fig, ax = plt.subplots()\n",
    "\n",
    "square = df[\"sqft_living\"]\n",
    "price = df[\"price\"]\n",
    "\n",
    "ax.scatter(square, price)\n",
    "plt.show()\n",
    "\n",
    "#Hint plt.scatter"
   ]
  },
  {
   "cell_type": "code",
   "execution_count": 201,
   "metadata": {},
   "outputs": [
    {
     "data": {
      "image/png": "[encoded data removed]",
      "text/plain": [
       "<Figure size 432x288 with 1 Axes>"
      ]
     },
     "metadata": {
      "needs_background": "light"
     },
     "output_type": "display_data"
    }
   ],
   "source": [
    "#b) Check how price is influenced by apartment's grade. Find other variables correlated with price.\n",
    "#Your code:\n",
    "df = pd.read_csv(getcwd() + \"\\kc_house_data.csv\") # need to be __main__ file\n",
    "\n",
    "fig, ax = plt.subplots()\n",
    "\n",
    "grade = df[\"grade\"]\n",
    "price = df[\"price\"]\n",
    "\n",
    "ax.scatter(grade, price)\n",
    "plt.show()\n"
   ]
  },
  {
   "cell_type": "code",
   "execution_count": 202,
   "metadata": {},
   "outputs": [
    {
     "data": {
      "image/png": "[encoded data removed]",
      "text/plain": [
       "<Figure size 432x288 with 1 Axes>"
      ]
     },
     "metadata": {
      "needs_background": "light"
     },
     "output_type": "display_data"
    }
   ],
   "source": [
    "#c) Check how good apartments are distributed over the city. \n",
    "# First, plot zipcode versus price. \n",
    "#Your code:\n",
    "df = pd.read_csv(getcwd() + \"\\kc_house_data.csv\") # need to be __main__ file\n",
    "\n",
    "fig, ax = plt.subplots()\n",
    "\n",
    "zipcode = df[\"zipcode\"]\n",
    "price = df[\"price\"]\n",
    "\n",
    "ax.scatter(zipcode, price)\n",
    "plt.show()\n"
   ]
  },
  {
   "cell_type": "code",
   "execution_count": 203,
   "metadata": {},
   "outputs": [
    {
     "data": {
      "image/png": "[encoded data removed]",
      "text/plain": [
       "<Figure size 432x288 with 1 Axes>"
      ]
     },
     "metadata": {
      "needs_background": "light"
     },
     "output_type": "display_data"
    }
   ],
   "source": [
    "# Then, use apartments coordinates (longitude and lattitude) in order to show \n",
    "# where apartments of good grade are located.\n",
    "#Your code:\n",
    "df = pd.read_csv(getcwd() + \"\\kc_house_data.csv\") # need to be __main__ file\n",
    "\n",
    "fig, ax = plt.subplots()\n",
    "\n",
    "longitude = df[\"long\"]\n",
    "lattitude = df[\"lat\"]\n",
    "grade = df.loc[:,\"grade\"]\n",
    "\n",
    "\n",
    "\n",
    "ax.scatter(longitude, lattitude, c=grade)\n",
    "\n",
    "plt.show()\n",
    "\n"
   ]
  },
  {
   "cell_type": "markdown",
   "metadata": {},
   "source": [
    "## Exercise 3\n",
    "a) Create boxplot of apartment's grade versus it's price. Compare with plot 2b).  \n",
    "b) Create mosaic plot of any two categorical variables."
   ]
  },
  {
   "cell_type": "code",
   "execution_count": 6,
   "metadata": {},
   "outputs": [
    {
     "data": {
      "image/png": "[encoded data removed]",
      "text/plain": [
       "<Figure size 432x288 with 1 Axes>"
      ]
     },
     "metadata": {
      "needs_background": "light"
     },
     "output_type": "display_data"
    }
   ],
   "source": [
    "#a)Create boxplot of apartment's grade versus it's price. Compare with plot 2b).\n",
    "#Your code:\n",
    "df = pd.read_csv(getcwd() + \"\\kc_house_data.csv\") # need to be __main__ file\n",
    "\n",
    "grade = []\n",
    "for i in range(1,14):\n",
    "    grade.append(df.loc[lambda df: df['grade'] == i][\"price\"])\n",
    "\n",
    "\n",
    "plt.boxplot(x = grade, data = price)\n",
    "\n",
    "\n",
    "\n",
    "plt.show()\n",
    "\n",
    "#Hint: plt.boxplot"
   ]
  },
  {
   "cell_type": "code",
   "execution_count": 205,
   "metadata": {},
   "outputs": [
    {
     "data": {
      "image/png": "[encoded data removed]",
      "text/plain": [
       "<Figure size 432x288 with 3 Axes>"
      ]
     },
     "metadata": {
      "needs_background": "light"
     },
     "output_type": "display_data"
    }
   ],
   "source": [
    "#b)Create mosaic plot of any two categorical variables.\n",
    "from statsmodels.graphics.mosaicplot import mosaic\n",
    "\n",
    "#Your code:\n",
    "mosaic(data = df.head(), index = [\"grade\", \"price\"])\n",
    "plt.show()\n"
   ]
  },
  {
   "cell_type": "markdown",
   "metadata": {},
   "source": [
    "## Exercise 4\n",
    "\"I am interested in the house with 3 bedrooms, 2 bathrooms and 2 floors\"  \n",
    "a) Compute the basic statistics of apartments fulfilling above constraints.  \n",
    "b) Distinct accepted apartments on any of previously created plots.  \n",
    "c) Find such apartments with best price to footage ratio.  "
   ]
  },
  {
   "cell_type": "code",
   "execution_count": 206,
   "metadata": {},
   "outputs": [
    {
     "data": {
      "text/html": [
       "<div>\n",
       "<style scoped>\n",
       "    .dataframe tbody tr th:only-of-type {\n",
       "        vertical-align: middle;\n",
       "    }\n",
       "\n",
       "    .dataframe tbody tr th {\n",
       "        vertical-align: top;\n",
       "    }\n",
       "\n",
       "    .dataframe thead th {\n",
       "        text-align: right;\n",
       "    }\n",
       "</style>\n",
       "<table border=\"1\" class=\"dataframe\">\n",
       "  <thead>\n",
       "    <tr style=\"text-align: right;\">\n",
       "      <th></th>\n",
       "      <th>id</th>\n",
       "      <th>price</th>\n",
       "      <th>bedrooms</th>\n",
       "      <th>bathrooms</th>\n",
       "      <th>sqft_living</th>\n",
       "      <th>sqft_lot</th>\n",
       "      <th>floors</th>\n",
       "      <th>waterfront</th>\n",
       "      <th>view</th>\n",
       "      <th>condition</th>\n",
       "      <th>grade</th>\n",
       "      <th>sqft_above</th>\n",
       "      <th>sqft_basement</th>\n",
       "      <th>yr_built</th>\n",
       "      <th>yr_renovated</th>\n",
       "      <th>zipcode</th>\n",
       "      <th>lat</th>\n",
       "      <th>long</th>\n",
       "      <th>sqft_living15</th>\n",
       "      <th>sqft_lot15</th>\n",
       "    </tr>\n",
       "  </thead>\n",
       "  <tbody>\n",
       "    <tr>\n",
       "      <th>count</th>\n",
       "      <td>1.540000e+02</td>\n",
       "      <td>1.540000e+02</td>\n",
       "      <td>154.0</td>\n",
       "      <td>154.0</td>\n",
       "      <td>154.000000</td>\n",
       "      <td>154.000000</td>\n",
       "      <td>154.0</td>\n",
       "      <td>154.000000</td>\n",
       "      <td>154.000000</td>\n",
       "      <td>154.000000</td>\n",
       "      <td>154.000000</td>\n",
       "      <td>154.000000</td>\n",
       "      <td>154.000000</td>\n",
       "      <td>154.000000</td>\n",
       "      <td>154.000000</td>\n",
       "      <td>154.000000</td>\n",
       "      <td>154.000000</td>\n",
       "      <td>154.000000</td>\n",
       "      <td>154.000000</td>\n",
       "      <td>154.000000</td>\n",
       "    </tr>\n",
       "    <tr>\n",
       "      <th>mean</th>\n",
       "      <td>4.397177e+09</td>\n",
       "      <td>5.144986e+05</td>\n",
       "      <td>3.0</td>\n",
       "      <td>2.0</td>\n",
       "      <td>1850.279221</td>\n",
       "      <td>23678.948052</td>\n",
       "      <td>2.0</td>\n",
       "      <td>0.006494</td>\n",
       "      <td>0.357143</td>\n",
       "      <td>3.435065</td>\n",
       "      <td>7.551948</td>\n",
       "      <td>1717.422078</td>\n",
       "      <td>132.857143</td>\n",
       "      <td>1969.779221</td>\n",
       "      <td>284.863636</td>\n",
       "      <td>98085.577922</td>\n",
       "      <td>47.567376</td>\n",
       "      <td>-122.247091</td>\n",
       "      <td>1802.337662</td>\n",
       "      <td>17545.123377</td>\n",
       "    </tr>\n",
       "    <tr>\n",
       "      <th>std</th>\n",
       "      <td>2.849813e+09</td>\n",
       "      <td>2.497661e+05</td>\n",
       "      <td>0.0</td>\n",
       "      <td>0.0</td>\n",
       "      <td>547.585413</td>\n",
       "      <td>83324.024708</td>\n",
       "      <td>0.0</td>\n",
       "      <td>0.080582</td>\n",
       "      <td>0.919495</td>\n",
       "      <td>0.713322</td>\n",
       "      <td>0.832684</td>\n",
       "      <td>527.473851</td>\n",
       "      <td>248.092631</td>\n",
       "      <td>34.654456</td>\n",
       "      <td>700.057328</td>\n",
       "      <td>48.808788</td>\n",
       "      <td>0.143221</td>\n",
       "      <td>0.150507</td>\n",
       "      <td>453.210930</td>\n",
       "      <td>40404.134611</td>\n",
       "    </tr>\n",
       "    <tr>\n",
       "      <th>min</th>\n",
       "      <td>7.600057e+06</td>\n",
       "      <td>2.090000e+05</td>\n",
       "      <td>3.0</td>\n",
       "      <td>2.0</td>\n",
       "      <td>1020.000000</td>\n",
       "      <td>700.000000</td>\n",
       "      <td>2.0</td>\n",
       "      <td>0.000000</td>\n",
       "      <td>0.000000</td>\n",
       "      <td>2.000000</td>\n",
       "      <td>6.000000</td>\n",
       "      <td>720.000000</td>\n",
       "      <td>0.000000</td>\n",
       "      <td>1900.000000</td>\n",
       "      <td>0.000000</td>\n",
       "      <td>98001.000000</td>\n",
       "      <td>47.194700</td>\n",
       "      <td>-122.519000</td>\n",
       "      <td>850.000000</td>\n",
       "      <td>886.000000</td>\n",
       "    </tr>\n",
       "    <tr>\n",
       "      <th>25%</th>\n",
       "      <td>2.060901e+09</td>\n",
       "      <td>3.769750e+05</td>\n",
       "      <td>3.0</td>\n",
       "      <td>2.0</td>\n",
       "      <td>1452.500000</td>\n",
       "      <td>3414.750000</td>\n",
       "      <td>2.0</td>\n",
       "      <td>0.000000</td>\n",
       "      <td>0.000000</td>\n",
       "      <td>3.000000</td>\n",
       "      <td>7.000000</td>\n",
       "      <td>1402.500000</td>\n",
       "      <td>0.000000</td>\n",
       "      <td>1942.250000</td>\n",
       "      <td>0.000000</td>\n",
       "      <td>98038.500000</td>\n",
       "      <td>47.498800</td>\n",
       "      <td>-122.361750</td>\n",
       "      <td>1452.500000</td>\n",
       "      <td>4020.000000</td>\n",
       "    </tr>\n",
       "    <tr>\n",
       "      <th>50%</th>\n",
       "      <td>3.630010e+09</td>\n",
       "      <td>4.640000e+05</td>\n",
       "      <td>3.0</td>\n",
       "      <td>2.0</td>\n",
       "      <td>1700.000000</td>\n",
       "      <td>5868.500000</td>\n",
       "      <td>2.0</td>\n",
       "      <td>0.000000</td>\n",
       "      <td>0.000000</td>\n",
       "      <td>3.000000</td>\n",
       "      <td>7.000000</td>\n",
       "      <td>1625.000000</td>\n",
       "      <td>0.000000</td>\n",
       "      <td>1984.500000</td>\n",
       "      <td>0.000000</td>\n",
       "      <td>98103.000000</td>\n",
       "      <td>47.584750</td>\n",
       "      <td>-122.299500</td>\n",
       "      <td>1725.000000</td>\n",
       "      <td>6278.000000</td>\n",
       "    </tr>\n",
       "    <tr>\n",
       "      <th>75%</th>\n",
       "      <td>7.184074e+09</td>\n",
       "      <td>5.894625e+05</td>\n",
       "      <td>3.0</td>\n",
       "      <td>2.0</td>\n",
       "      <td>2127.500000</td>\n",
       "      <td>10800.250000</td>\n",
       "      <td>2.0</td>\n",
       "      <td>0.000000</td>\n",
       "      <td>0.000000</td>\n",
       "      <td>4.000000</td>\n",
       "      <td>8.000000</td>\n",
       "      <td>1977.500000</td>\n",
       "      <td>207.500000</td>\n",
       "      <td>1997.500000</td>\n",
       "      <td>0.000000</td>\n",
       "      <td>98122.000000</td>\n",
       "      <td>47.682400</td>\n",
       "      <td>-122.149250</td>\n",
       "      <td>2117.500000</td>\n",
       "      <td>10392.250000</td>\n",
       "    </tr>\n",
       "    <tr>\n",
       "      <th>max</th>\n",
       "      <td>9.829200e+09</td>\n",
       "      <td>1.755000e+06</td>\n",
       "      <td>3.0</td>\n",
       "      <td>2.0</td>\n",
       "      <td>3650.000000</td>\n",
       "      <td>843309.000000</td>\n",
       "      <td>2.0</td>\n",
       "      <td>1.000000</td>\n",
       "      <td>4.000000</td>\n",
       "      <td>5.000000</td>\n",
       "      <td>10.000000</td>\n",
       "      <td>3650.000000</td>\n",
       "      <td>1120.000000</td>\n",
       "      <td>2014.000000</td>\n",
       "      <td>2014.000000</td>\n",
       "      <td>98199.000000</td>\n",
       "      <td>47.777000</td>\n",
       "      <td>-121.709000</td>\n",
       "      <td>3170.000000</td>\n",
       "      <td>273992.000000</td>\n",
       "    </tr>\n",
       "  </tbody>\n",
       "</table>\n",
       "</div>"
      ],
      "text/plain": [
       "                 id         price  bedrooms  bathrooms  sqft_living  \\\n",
       "count  1.540000e+02  1.540000e+02     154.0      154.0   154.000000   \n",
       "mean   4.397177e+09  5.144986e+05       3.0        2.0  1850.279221   \n",
       "std    2.849813e+09  2.497661e+05       0.0        0.0   547.585413   \n",
       "min    7.600057e+06  2.090000e+05       3.0        2.0  1020.000000   \n",
       "25%    2.060901e+09  3.769750e+05       3.0        2.0  1452.500000   \n",
       "50%    3.630010e+09  4.640000e+05       3.0        2.0  1700.000000   \n",
       "75%    7.184074e+09  5.894625e+05       3.0        2.0  2127.500000   \n",
       "max    9.829200e+09  1.755000e+06       3.0        2.0  3650.000000   \n",
       "\n",
       "            sqft_lot  floors  waterfront        view   condition       grade  \\\n",
       "count     154.000000   154.0  154.000000  154.000000  154.000000  154.000000   \n",
       "mean    23678.948052     2.0    0.006494    0.357143    3.435065    7.551948   \n",
       "std     83324.024708     0.0    0.080582    0.919495    0.713322    0.832684   \n",
       "min       700.000000     2.0    0.000000    0.000000    2.000000    6.000000   \n",
       "25%      3414.750000     2.0    0.000000    0.000000    3.000000    7.000000   \n",
       "50%      5868.500000     2.0    0.000000    0.000000    3.000000    7.000000   \n",
       "75%     10800.250000     2.0    0.000000    0.000000    4.000000    8.000000   \n",
       "max    843309.000000     2.0    1.000000    4.000000    5.000000   10.000000   \n",
       "\n",
       "        sqft_above  sqft_basement     yr_built  yr_renovated       zipcode  \\\n",
       "count   154.000000     154.000000   154.000000    154.000000    154.000000   \n",
       "mean   1717.422078     132.857143  1969.779221    284.863636  98085.577922   \n",
       "std     527.473851     248.092631    34.654456    700.057328     48.808788   \n",
       "min     720.000000       0.000000  1900.000000      0.000000  98001.000000   \n",
       "25%    1402.500000       0.000000  1942.250000      0.000000  98038.500000   \n",
       "50%    1625.000000       0.000000  1984.500000      0.000000  98103.000000   \n",
       "75%    1977.500000     207.500000  1997.500000      0.000000  98122.000000   \n",
       "max    3650.000000    1120.000000  2014.000000   2014.000000  98199.000000   \n",
       "\n",
       "              lat        long  sqft_living15     sqft_lot15  \n",
       "count  154.000000  154.000000     154.000000     154.000000  \n",
       "mean    47.567376 -122.247091    1802.337662   17545.123377  \n",
       "std      0.143221    0.150507     453.210930   40404.134611  \n",
       "min     47.194700 -122.519000     850.000000     886.000000  \n",
       "25%     47.498800 -122.361750    1452.500000    4020.000000  \n",
       "50%     47.584750 -122.299500    1725.000000    6278.000000  \n",
       "75%     47.682400 -122.149250    2117.500000   10392.250000  \n",
       "max     47.777000 -121.709000    3170.000000  273992.000000  "
      ]
     },
     "execution_count": 206,
     "metadata": {},
     "output_type": "execute_result"
    }
   ],
   "source": [
    "#a)Compute the basic statistics of apartments fulfilling above constraints.\n",
    "#Your code:\n",
    "df = pd.read_csv(getcwd() + \"\\kc_house_data.csv\") # need to be __main__ file\n",
    "\n",
    "ex4_df = df.loc[(df['bedrooms'] == 3.0) & (df['bathrooms'] == 2.0) & (df['floors'] == 2.0)]\n",
    "\n",
    "ex4_df.describe()\n",
    "\n",
    "#Hint: pandas.DataFrame.loc"
   ]
  },
  {
   "cell_type": "code",
   "execution_count": 207,
   "metadata": {},
   "outputs": [
    {
     "data": {
      "image/png": "[encoded data removed]",
      "text/plain": [
       "<Figure size 432x288 with 1 Axes>"
      ]
     },
     "metadata": {
      "needs_background": "light"
     },
     "output_type": "display_data"
    }
   ],
   "source": [
    "#b)Distinct accepted apartments on any of previously created plots.\n",
    "#Your code:\n",
    "\n",
    "grade = ex4_df[\"grade\"]\n",
    "price = ex4_df[\"price\"]\n",
    "\n",
    "plt.scatter(grade, price)\n",
    "plt.show()\n",
    "\n"
   ]
  },
  {
   "cell_type": "code",
   "execution_count": 208,
   "metadata": {
    "scrolled": true
   },
   "outputs": [
    {
     "data": {
      "text/html": [
       "<div>\n",
       "<style scoped>\n",
       "    .dataframe tbody tr th:only-of-type {\n",
       "        vertical-align: middle;\n",
       "    }\n",
       "\n",
       "    .dataframe tbody tr th {\n",
       "        vertical-align: top;\n",
       "    }\n",
       "\n",
       "    .dataframe thead th {\n",
       "        text-align: right;\n",
       "    }\n",
       "</style>\n",
       "<table border=\"1\" class=\"dataframe\">\n",
       "  <thead>\n",
       "    <tr style=\"text-align: right;\">\n",
       "      <th></th>\n",
       "      <th>id</th>\n",
       "      <th>date</th>\n",
       "      <th>price</th>\n",
       "      <th>bedrooms</th>\n",
       "      <th>bathrooms</th>\n",
       "      <th>sqft_living</th>\n",
       "      <th>sqft_lot</th>\n",
       "      <th>floors</th>\n",
       "      <th>waterfront</th>\n",
       "      <th>view</th>\n",
       "      <th>...</th>\n",
       "      <th>grade</th>\n",
       "      <th>sqft_above</th>\n",
       "      <th>sqft_basement</th>\n",
       "      <th>yr_built</th>\n",
       "      <th>yr_renovated</th>\n",
       "      <th>zipcode</th>\n",
       "      <th>lat</th>\n",
       "      <th>long</th>\n",
       "      <th>sqft_living15</th>\n",
       "      <th>sqft_lot15</th>\n",
       "    </tr>\n",
       "  </thead>\n",
       "  <tbody>\n",
       "    <tr>\n",
       "      <th>9704</th>\n",
       "      <td>7452500565</td>\n",
       "      <td>20140829T000000</td>\n",
       "      <td>260000.0</td>\n",
       "      <td>3</td>\n",
       "      <td>2.0</td>\n",
       "      <td>2710</td>\n",
       "      <td>5000</td>\n",
       "      <td>2.0</td>\n",
       "      <td>0</td>\n",
       "      <td>0</td>\n",
       "      <td>...</td>\n",
       "      <td>6</td>\n",
       "      <td>2710</td>\n",
       "      <td>0</td>\n",
       "      <td>1951</td>\n",
       "      <td>0</td>\n",
       "      <td>98126</td>\n",
       "      <td>47.5188</td>\n",
       "      <td>-122.373</td>\n",
       "      <td>850</td>\n",
       "      <td>5000</td>\n",
       "    </tr>\n",
       "    <tr>\n",
       "      <th>11258</th>\n",
       "      <td>7937600262</td>\n",
       "      <td>20140710T000000</td>\n",
       "      <td>379900.0</td>\n",
       "      <td>3</td>\n",
       "      <td>2.0</td>\n",
       "      <td>3110</td>\n",
       "      <td>44967</td>\n",
       "      <td>2.0</td>\n",
       "      <td>0</td>\n",
       "      <td>0</td>\n",
       "      <td>...</td>\n",
       "      <td>9</td>\n",
       "      <td>3020</td>\n",
       "      <td>90</td>\n",
       "      <td>1999</td>\n",
       "      <td>0</td>\n",
       "      <td>98058</td>\n",
       "      <td>47.4343</td>\n",
       "      <td>-122.082</td>\n",
       "      <td>2150</td>\n",
       "      <td>44967</td>\n",
       "    </tr>\n",
       "    <tr>\n",
       "      <th>19880</th>\n",
       "      <td>3832050860</td>\n",
       "      <td>20150319T000000</td>\n",
       "      <td>210000.0</td>\n",
       "      <td>3</td>\n",
       "      <td>2.0</td>\n",
       "      <td>1580</td>\n",
       "      <td>4961</td>\n",
       "      <td>2.0</td>\n",
       "      <td>0</td>\n",
       "      <td>0</td>\n",
       "      <td>...</td>\n",
       "      <td>7</td>\n",
       "      <td>1580</td>\n",
       "      <td>0</td>\n",
       "      <td>2006</td>\n",
       "      <td>0</td>\n",
       "      <td>98042</td>\n",
       "      <td>47.3338</td>\n",
       "      <td>-122.053</td>\n",
       "      <td>2280</td>\n",
       "      <td>5000</td>\n",
       "    </tr>\n",
       "    <tr>\n",
       "      <th>16014</th>\n",
       "      <td>5104450440</td>\n",
       "      <td>20141113T000000</td>\n",
       "      <td>252500.0</td>\n",
       "      <td>3</td>\n",
       "      <td>2.0</td>\n",
       "      <td>1810</td>\n",
       "      <td>10684</td>\n",
       "      <td>2.0</td>\n",
       "      <td>0</td>\n",
       "      <td>0</td>\n",
       "      <td>...</td>\n",
       "      <td>8</td>\n",
       "      <td>1810</td>\n",
       "      <td>0</td>\n",
       "      <td>1987</td>\n",
       "      <td>0</td>\n",
       "      <td>98058</td>\n",
       "      <td>47.4619</td>\n",
       "      <td>-122.153</td>\n",
       "      <td>2140</td>\n",
       "      <td>9657</td>\n",
       "    </tr>\n",
       "    <tr>\n",
       "      <th>20906</th>\n",
       "      <td>3355400242</td>\n",
       "      <td>20141028T000000</td>\n",
       "      <td>274900.0</td>\n",
       "      <td>3</td>\n",
       "      <td>2.0</td>\n",
       "      <td>1936</td>\n",
       "      <td>6612</td>\n",
       "      <td>2.0</td>\n",
       "      <td>0</td>\n",
       "      <td>0</td>\n",
       "      <td>...</td>\n",
       "      <td>7</td>\n",
       "      <td>1936</td>\n",
       "      <td>0</td>\n",
       "      <td>2014</td>\n",
       "      <td>0</td>\n",
       "      <td>98001</td>\n",
       "      <td>47.2602</td>\n",
       "      <td>-122.246</td>\n",
       "      <td>1620</td>\n",
       "      <td>21600</td>\n",
       "    </tr>\n",
       "  </tbody>\n",
       "</table>\n",
       "<p>5 rows × 21 columns</p>\n",
       "</div>"
      ],
      "text/plain": [
       "               id             date     price  bedrooms  bathrooms  \\\n",
       "9704   7452500565  20140829T000000  260000.0         3        2.0   \n",
       "11258  7937600262  20140710T000000  379900.0         3        2.0   \n",
       "19880  3832050860  20150319T000000  210000.0         3        2.0   \n",
       "16014  5104450440  20141113T000000  252500.0         3        2.0   \n",
       "20906  3355400242  20141028T000000  274900.0         3        2.0   \n",
       "\n",
       "       sqft_living  sqft_lot  floors  waterfront  view  ...  grade  \\\n",
       "9704          2710      5000     2.0           0     0  ...      6   \n",
       "11258         3110     44967     2.0           0     0  ...      9   \n",
       "19880         1580      4961     2.0           0     0  ...      7   \n",
       "16014         1810     10684     2.0           0     0  ...      8   \n",
       "20906         1936      6612     2.0           0     0  ...      7   \n",
       "\n",
       "       sqft_above  sqft_basement  yr_built  yr_renovated  zipcode      lat  \\\n",
       "9704         2710              0      1951             0    98126  47.5188   \n",
       "11258        3020             90      1999             0    98058  47.4343   \n",
       "19880        1580              0      2006             0    98042  47.3338   \n",
       "16014        1810              0      1987             0    98058  47.4619   \n",
       "20906        1936              0      2014             0    98001  47.2602   \n",
       "\n",
       "          long  sqft_living15  sqft_lot15  \n",
       "9704  -122.373            850        5000  \n",
       "11258 -122.082           2150       44967  \n",
       "19880 -122.053           2280        5000  \n",
       "16014 -122.153           2140        9657  \n",
       "20906 -122.246           1620       21600  \n",
       "\n",
       "[5 rows x 21 columns]"
      ]
     },
     "execution_count": 208,
     "metadata": {},
     "output_type": "execute_result"
    }
   ],
   "source": [
    "#c)Find such apartments with best price to footage ratio.\n",
    "#Your code:\n",
    "sort_condition = (ex4_df.loc[:,\"price\"] / ex4_df.loc[:,\"sqft_living\"]).sort_values().index\n",
    "ex4_df.loc[sort_condition, :].head()\n",
    "\n",
    "#Hint: .loc, .sort_values(), .index"
   ]
  }
 ],
 "metadata": {
  "kernelspec": {
   "display_name": "Python 3 (ipykernel)",
   "language": "python",
   "name": "python3"
  },
  "language_info": {
   "codemirror_mode": {
    "name": "ipython",
    "version": 3
   },
   "file_extension": ".py",
   "mimetype": "text/x-python",
   "name": "python",
   "nbconvert_exporter": "python",
   "pygments_lexer": "ipython3",
   "version": "3.9.12"
  },
  "vscode": {
   "interpreter": {
    "hash": "29ca574042d7fc844bbfeddbd5f839b7c146ebd773266e36f543e923916fc81b"
   }
  }
 },
 "nbformat": 4,
 "nbformat_minor": 2
}
